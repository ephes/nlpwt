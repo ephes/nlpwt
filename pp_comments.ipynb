{
 "cells": [
  {
   "cell_type": "code",
   "execution_count": 1,
   "metadata": {
    "ExecuteTime": {
     "end_time": "2023-04-21T15:17:08.482687Z",
     "start_time": "2023-04-21T15:17:08.164845Z"
    },
    "collapsed": true
   },
   "outputs": [],
   "source": [
    "import json\n",
    "\n",
    "from moderation import NaiveBayes, Evaluation"
   ]
  },
  {
   "cell_type": "code",
   "execution_count": 2,
   "metadata": {
    "ExecuteTime": {
     "end_time": "2023-04-21T15:17:08.517023Z",
     "start_time": "2023-04-21T15:17:08.194777Z"
    },
    "collapsed": false
   },
   "outputs": [],
   "source": [
    "with open(\"pp_comment_data.json\") as f:\n",
    "    messages = json.load(f)"
   ]
  },
  {
   "cell_type": "code",
   "execution_count": 3,
   "metadata": {},
   "outputs": [
    {
     "data": {
      "text/plain": [
       "['ham', 'Man alive   Guck guck']"
      ]
     },
     "execution_count": 3,
     "metadata": {},
     "output_type": "execute_result"
    }
   ],
   "source": [
    "messages[0]"
   ]
  },
  {
   "cell_type": "code",
   "execution_count": 4,
   "metadata": {
    "ExecuteTime": {
     "end_time": "2023-04-21T15:17:08.517917Z",
     "start_time": "2023-04-21T15:17:08.451249Z"
    },
    "collapsed": false
   },
   "outputs": [],
   "source": [
    "def show_performance(performance):\n",
    "    for label, result in performance.items():\n",
    "        precision, recall, f1 = result[\"precision\"], result[\"recall\"], result[\"f1\"]\n",
    "        # print(precision, recall, f1)\n",
    "        print(f\"{label: >4} f1: {f1:.3f} precision: {precision:.3f} recall: {recall:.3f}\")"
   ]
  },
  {
   "cell_type": "code",
   "execution_count": 5,
   "metadata": {
    "ExecuteTime": {
     "end_time": "2023-04-21T15:17:14.945596Z",
     "start_time": "2023-04-21T15:17:08.497520Z"
    },
    "collapsed": false
   },
   "outputs": [
    {
     "name": "stdout",
     "output_type": "stream",
     "text": [
      "results:  {'ham': {'true_positive': 44, 'false_positive': 1, 'true_negative': 0, 'false_negative': 5}, 'spam': {'true_positive': 929, 'false_positive': 5, 'true_negative': 0, 'false_negative': 1}}\n",
      " ham f1: 0.936 precision: 0.978 recall: 0.898\n",
      "spam f1: 0.997 precision: 0.995 recall: 0.999\n"
     ]
    }
   ],
   "source": [
    "evaluator = Evaluation(model_class=NaiveBayes)\n",
    "performance = evaluator.evaluate(messages)\n",
    "show_performance(performance)"
   ]
  },
  {
   "cell_type": "code",
   "execution_count": 6,
   "metadata": {
    "ExecuteTime": {
     "end_time": "2023-04-21T15:17:15.031707Z",
     "start_time": "2023-04-21T15:17:14.949531Z"
    },
    "collapsed": false
   },
   "outputs": [
    {
     "name": "stdout",
     "output_type": "stream",
     "text": [
      "2939\n"
     ]
    }
   ],
   "source": [
    "print(len(messages))"
   ]
  },
  {
   "cell_type": "code",
   "execution_count": null,
   "metadata": {},
   "outputs": [],
   "source": []
  }
 ],
 "metadata": {
  "kernelspec": {
   "display_name": "Python 3",
   "language": "python",
   "name": "python3"
  },
  "language_info": {
   "codemirror_mode": {
    "name": "ipython",
    "version": 3
   },
   "file_extension": ".py",
   "mimetype": "text/x-python",
   "name": "python",
   "nbconvert_exporter": "python",
   "pygments_lexer": "ipython3",
   "version": "3.10.11"
  }
 },
 "nbformat": 4,
 "nbformat_minor": 0
}
