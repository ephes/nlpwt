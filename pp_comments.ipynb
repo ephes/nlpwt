{
 "cells": [
  {
   "cell_type": "code",
   "execution_count": 1,
   "metadata": {
    "collapsed": true,
    "ExecuteTime": {
     "start_time": "2023-04-21T15:17:08.164845Z",
     "end_time": "2023-04-21T15:17:08.482687Z"
    }
   },
   "outputs": [],
   "source": [
    "import json\n",
    "\n",
    "from moderation import NaiveBayes, Evaluation"
   ]
  },
  {
   "cell_type": "code",
   "execution_count": 2,
   "outputs": [],
   "source": [
    "with open(\"pp_comment_data.json\") as f:\n",
    "    messages = json.load(f)"
   ],
   "metadata": {
    "collapsed": false,
    "ExecuteTime": {
     "start_time": "2023-04-21T15:17:08.194777Z",
     "end_time": "2023-04-21T15:17:08.517023Z"
    }
   }
  },
  {
   "cell_type": "code",
   "execution_count": 3,
   "outputs": [],
   "source": [
    "def show_performance(performance):\n",
    "    for label, result in performance.items():\n",
    "        precision, recall, f1 = result[\"precision\"], result[\"recall\"], result[\"f1\"]\n",
    "        # print(precision, recall, f1)\n",
    "        print(f\"{label: >4} f1: {f1:.3f} precision: {precision:.3f} recall: {recall:.3f}\")"
   ],
   "metadata": {
    "collapsed": false,
    "ExecuteTime": {
     "start_time": "2023-04-21T15:17:08.451249Z",
     "end_time": "2023-04-21T15:17:08.517917Z"
    }
   }
  },
  {
   "cell_type": "code",
   "execution_count": 4,
   "outputs": [
    {
     "name": "stdout",
     "output_type": "stream",
     "text": [
      "results:  {'spam': {'true_positive': 930, 'false_positive': 4, 'true_negative': 0, 'false_negative': 0}, 'ham': {'true_positive': 45, 'false_positive': 0, 'true_negative': 0, 'false_negative': 4}}\n",
      "spam f1: 0.998 precision: 0.996 recall: 1.000\n",
      " ham f1: 0.957 precision: 1.000 recall: 0.918\n"
     ]
    }
   ],
   "source": [
    "evaluator = Evaluation(model_class=NaiveBayes)\n",
    "performance = evaluator.evaluate(messages)\n",
    "show_performance(performance)"
   ],
   "metadata": {
    "collapsed": false,
    "ExecuteTime": {
     "start_time": "2023-04-21T15:17:08.497520Z",
     "end_time": "2023-04-21T15:17:14.945596Z"
    }
   }
  },
  {
   "cell_type": "code",
   "execution_count": 5,
   "outputs": [
    {
     "name": "stdout",
     "output_type": "stream",
     "text": [
      "2939\n"
     ]
    }
   ],
   "source": [
    "print(len(messages))"
   ],
   "metadata": {
    "collapsed": false,
    "ExecuteTime": {
     "start_time": "2023-04-21T15:17:14.949531Z",
     "end_time": "2023-04-21T15:17:15.031707Z"
    }
   }
  },
  {
   "cell_type": "code",
   "execution_count": 6,
   "outputs": [
    {
     "name": "stdout",
     "output_type": "stream",
     "text": [
      "hello world!\n"
     ]
    }
   ],
   "source": [
    "print(\"hello world!\")"
   ],
   "metadata": {
    "collapsed": false,
    "ExecuteTime": {
     "start_time": "2023-04-21T15:17:14.970252Z",
     "end_time": "2023-04-21T15:17:15.065494Z"
    }
   }
  },
  {
   "cell_type": "code",
   "execution_count": 7,
   "outputs": [
    {
     "name": "stdout",
     "output_type": "stream",
     "text": [
      "hello cruel world!\n"
     ]
    }
   ],
   "source": [
    "print(\"hello cruel world!\")"
   ],
   "metadata": {
    "collapsed": false,
    "ExecuteTime": {
     "start_time": "2023-04-21T15:18:13.669614Z",
     "end_time": "2023-04-21T15:18:13.860252Z"
    }
   }
  },
  {
   "cell_type": "code",
   "execution_count": null,
   "outputs": [],
   "source": [],
   "metadata": {
    "collapsed": false
   }
  }
 ],
 "metadata": {
  "kernelspec": {
   "display_name": "Python 3",
   "language": "python",
   "name": "python3"
  },
  "language_info": {
   "codemirror_mode": {
    "name": "ipython",
    "version": 2
   },
   "file_extension": ".py",
   "mimetype": "text/x-python",
   "name": "python",
   "nbconvert_exporter": "python",
   "pygments_lexer": "ipython2",
   "version": "2.7.6"
  }
 },
 "nbformat": 4,
 "nbformat_minor": 0
}
